{
 "cells": [
  {
   "cell_type": "code",
   "execution_count": 1,
   "metadata": {
    "scrolled": true
   },
   "outputs": [
    {
     "name": "stdout",
     "output_type": "stream",
     "text": [
      "4246\n",
      "[0 0 0 0]\n"
     ]
    }
   ],
   "source": [
    "from __future__ import division\n",
    "import timeit\n",
    "import numpy as np \n",
    "import os\n",
    "from Coeff import *\n",
    "from Global_Variables import *\n",
    "from Supplementary_Functions import *\n",
    "from Load_Boundary_Conditions import *\n",
    "from Test_engine import *\n",
    "from Hydraulic_Calculation import *\n",
    "import pycuda.driver as cuda\n",
    "#import pycuda.autoinit\n",
    "from pycuda.compiler import SourceModule\n",
    "import matplotlib.pyplot as plt\n",
    "from Pointers import Pointers\n",
    "from Pointers import PointersStruct\n",
    "import skimage.io as io\n",
    "%matplotlib inline\n",
    "import timeit"
   ]
  },
  {
   "cell_type": "code",
   "execution_count": 2,
   "metadata": {},
   "outputs": [],
   "source": [
    "cuda.init()\n",
    "dev = cuda.Device(1) # the number of GPU\n",
    "ctx = dev.make_context()\n",
    "kwargs = {\"h\": h, \"hsnham\": hsnham, \"VISCOINDX\" : VISCOINDX, \"H_moi\": H_moi, \"bienQ\" : bienQ,\\\n",
    "          \"moci\" : moci ,\"mocj\" : mocj, \"dauj\": dauj, \"daui\" : daui, \"cuoii\" : cuoii, \"cuoij\" : cuoij,\\\n",
    "          \"Tsxw\" : Tsxw, \"Tsyw\" : Tsyw, \"khouot\" : khouot, \"boundary_type\" : boundary_type,\\\n",
    "          \"u\": u, \"v\": v, \"z\" : z, \"t_u\": t_u, \"t_v\": t_v, \"t_z\": t_z, \"Htdu\": Htdu, \"Htdv\" : Htdv,\\\n",
    "          \"Kx1\" : Kx1, \"Ky1\" : Ky1, \"htaiz\" : htaiz,\\\n",
    "          \"bc_up\": bc_up, \"bc_down\": bc_down, \"bc_left\": bc_left, \"bc_right\" : bc_right,\\\n",
    "          \"ubt\" : ubt, \"ubp\" : ubp, \"vbt\" : vbt, \"vbd\" : vbd, \"hi\": hi, \\\n",
    "          \"FS\" : FS, 'CC_u' : CC_u, 'CC_d' : CC_d, 'CC_l' : CC_l, 'CC_r' : CC_r,\\\n",
    "          \"VTH\": VTH, \"Kx\" : Kx, \"Ky\" : Ky, \"Fw\" : Fw, \"Qbx\" : Qbx, \"Qby\" : Qby, \"dH\" : dH}\n",
    "pointers = Pointers(ctx,dtype=np.float64,**kwargs)\n",
    "# pointers = Pointers(ctx,**kwargs)\n",
    "\n",
    "pd = pointers.alloc_on_device_only(N, M)\n",
    "pc = pointers.alloc()\n",
    "global_attributes = [np.int32(M), np.int32(N),\\\n",
    "                pc['bienQ'], pc['daui'], pc['dauj'], pc['cuoii'], pc['cuoij'], pc['moci'], pc['mocj'], pc['khouot'], pc['boundary_type'], \\\n",
    "                pc['h'], pc['v'], pc['u'], pc['z'], pc['t_u'], pc['t_v'], pc['t_z'], pc['Htdu'], pc['Htdv'], pc['H_moi'], pc['htaiz'],\\\n",
    "                pc['ubt'], pc['ubp'], pc['vbt'], pc['vbd'], \\\n",
    "                pc['hsnham'], pc['VISCOINDX'], pc['Kx1'], pc['Ky1'], pc['Tsyw'], pc['Tsxw'],\\\n",
    "                pc['bc_up'], pc['bc_down'], pc['bc_left'], pc['bc_right'], pc['hi'],\\\n",
    "                pc['FS'], pc['CC_u'], pc['CC_d'], pc['CC_l'], pc['CC_r'],\\\n",
    "                pc['VTH'], pc['Kx'], pc['Ky'], pc['Fw'], pc['Qbx'], pc['Qby'], pc['dH']]\n",
    "\n",
    "auxilary_arrays = [pd['a1'], pd['b1'], pd['c1'], pd['d1'], pd['a2'], pd['c2'], pd['d2'],\\\n",
    "                pd['f1'], pd['f2'], pd['f3'], pd['f5'],\\\n",
    "                pd['AA'], pd['BB'], pd['CC'], pd['DD'],\\\n",
    "                pd['x'], pd['Ap'], pd['Bp'], pd['ep'], pd['SN'] ]\n"
   ]
  },
  {
   "cell_type": "code",
   "execution_count": 3,
   "metadata": {},
   "outputs": [
    {
     "name": "stdout",
     "output_type": "stream",
     "text": [
      "<pycuda._driver.DeviceAllocation object at 0x7f9ba053bc90>\n"
     ]
    }
   ],
   "source": [
    "print pc['FS']"
   ]
  },
  {
   "cell_type": "code",
   "execution_count": 4,
   "metadata": {
    "scrolled": false
   },
   "outputs": [
    {
     "name": "stderr",
     "output_type": "stream",
     "text": [
      "/home/huongnm/anaconda2/lib/python2.7/site-packages/ipykernel_launcher.py:11: UserWarning: The CUDA compiler succeeded, but said the following:\n",
      "/home/Pearl/mia/Hydist/constant.cuh(154): warning: missing return statement at end of non-void function \"locate_segment_v\"\n",
      "\n",
      "/home/Pearl/mia/Hydist/constant.cuh(178): warning: missing return statement at end of non-void function \"locate_segment_u\"\n",
      "\n",
      "\n",
      "  # This is added back by InteractiveShellApp.init_path()\n"
     ]
    }
   ],
   "source": [
    "# arg_struct_size = 44 * np.intp(0).nbytes + 8;\n",
    "#     arr_struct_size = 20 * np.intp(0).nbytes;\n",
    "arg_struct_ptr = cuda.mem_alloc(np.intp(0).nbytes * (len(global_attributes) - 2) + 8)\n",
    "arr_struct_ptr = cuda.mem_alloc(np.intp(0).nbytes * len(auxilary_arrays))\n",
    "arg_struct = PointersStruct(global_attributes, arg_struct_ptr)\n",
    "arr_struct = PointersStruct(auxilary_arrays, arr_struct_ptr, structtype='ARR')\n",
    "pointers.toDevice(['h', 'hsnham', 'VISCOINDX', 'bienQ', 'Tsyw', 'Tsxw', 'boundary_type', 'bc_up', 'bc_down', 'bc_left', 'bc_right',\\\n",
    "                  'u', 'v', 'z', 'CC_u', 'CC_d', 'CC_l', 'CC_r'])\n",
    "ctx.synchronize()\n",
    "\n",
    "supplement = open(\"tmp.cu\").read()\n",
    "supmod = SourceModule(supplement, include_dirs = [os.getcwd()])\n",
    "init_Kernel = supmod.get_function(\"Onetime_init\")\n",
    "Find_Calculation_limits_x = supmod.get_function(\"Find_Calculation_limits_Horizontal\")\n",
    "Find_Calculation_limits_y = supmod.get_function(\"Find_Calculation_limits_Vertical\")\n",
    "gpu_Htuongdoi  = supmod.get_function(\"Htuongdoi\")\n",
    "preprocess = supmod.get_function(\"preprocess_data\")\n",
    "\n",
    "block_2d = (min(32, M + 3), 1, 1)\n",
    "grid_2d = ((M + 3) // min(32, M + 3) + 1, N + 3, 1)\n",
    "init_Kernel(arg_struct_ptr, block=block_2d, grid=grid_2d)\n",
    "ctx.synchronize()\n",
    "Find_Calculation_limits_x(arg_struct_ptr, block=(32, 1, 1), grid=(1, N, 1))\n",
    "Find_Calculation_limits_y(arg_struct_ptr, block=(32, 1, 1), grid=(1, M, 1))\n",
    "gpu_Htuongdoi(arg_struct_ptr, block=block_2d, grid=grid_2d)\n",
    "ctx.synchronize()\n",
    "preprocess(arg_struct_ptr, block=(32, 1, 1), grid = (1, 1, 1))\n"
   ]
  },
  {
   "cell_type": "code",
   "execution_count": 5,
   "metadata": {},
   "outputs": [],
   "source": [
    "def load_input_and_initialize():\n",
    "    TinhKhoUot()\n",
    "    Htuongdoi()\n",
    "    K_factor()\n",
    "    GiatriHtaiZ()\n",
    "    #Initial_condition(Dirs['U_file'], Dirs['V_file'], Dirs['Z_file']) # this can load new \n",
    "    # Load initial condition (tinh tiep hoac tinh tu dau)\n",
    "    Find_Calculation_limits()\n",
    "load_input_and_initialize()"
   ]
  },
  {
   "cell_type": "code",
   "execution_count": 6,
   "metadata": {},
   "outputs": [],
   "source": [
    "# gpu_boundary_type = np.zeros(boundary_type.shape, dtype=np.int32)\n",
    "# cuda.memcpy_dtoh(gpu_boundary_type, pc['boundary_type'])\n",
    "# gpu_left = np.zeros(bc_left.shape, dtype=np.float32)\n",
    "# cuda.memcpy_dtoh(gpu_left, pc['bc_left'])\n",
    "# gpu_bienQ = np.zeros(bienQ.shape, dtype=np.int32)\n",
    "# cuda.memcpy_dtoh(gpu_bienQ, pc['bienQ'])\n",
    "# gpu_htdu = np.zeros(Htdu.shape,dtype=np.float32)\n",
    "# gpu_htdv = np.zeros(Htdv.shape,dtype=np.float32)\n",
    "# gpu_daui = np.zeros(daui.shape,dtype=np.int32)\n",
    "# gpu_dauj = np.zeros(dauj.shape,dtype=np.int32)\n",
    "# gpu_cuoii = np.zeros(cuoii.shape,dtype=np.int32)\n",
    "# gpu_cuoij = np.zeros(cuoij.shape,dtype=np.int32)\n",
    "# gpu_khouot = np.ones(khouot.shape,dtype=np.int32)\n",
    "# gpu_tz = np.zeros(t_u.shape, dtype=np.float32)\n",
    "# gpu_tu = np.zeros(t_u.shape, dtype=np.float32)\n",
    "# gpu_tv = np.zeros(t_u.shape, dtype=np.float32)\n",
    "\n",
    "# pointers.extract({\"Htdu\" : gpu_htdu, \"Htdv\" : gpu_htdv, \"daui\" : gpu_daui, \"cuoii\" : gpu_cuoii, \"dauj\" : gpu_dauj, \"cuoij\" : gpu_cuoij, \"khouot\" : gpu_khouot })\n",
    "# # print np.where(gpu_htdu[:,10] != 0)\n",
    "# err_htdv = np.where(abs(gpu_htdv - Htdv ) > 1e-6)\n",
    "# err_htdu = np.where(abs(gpu_htdu - Htdu ) > 1e-6)\n",
    "# err_daui = np.where(abs(gpu_daui - daui ) != 0)\n",
    "# err_dauj = np.where(abs(gpu_dauj - dauj ) != 0)\n",
    "# err_cuoii = np.where(abs(gpu_cuoii - cuoii ) != 0)\n",
    "# err_cuoij = np.where(abs(gpu_cuoij - cuoij ) != 0)\n",
    "# err_ku = np.where(abs(gpu_khouot - khouot) != 0)   \n",
    "# print khouot[:,5]\n",
    "# print gpu_khouot[:, 5]\n",
    "# print 'khouot:', err_ku\n",
    "# print \"Htdu:\",  err_htdu\n",
    "# print \"Htdv:\",  err_htdv\n",
    "# print \"daui :\",  err_daui\n",
    "# print \"dauj :\",  err_dauj\n",
    "# print \"cuoii:\", err_cuoii\n",
    "# print \"cuoij:\", err_cuoij   \n"
   ]
  },
  {
   "cell_type": "code",
   "execution_count": null,
   "metadata": {},
   "outputs": [],
   "source": [
    "hours = 0\n",
    "mins = 0\n",
    "secs = 1\n",
    "Tmax = hours*3600 + mins* 60 + secs\n",
    "plot = False\n",
    "debug = True\n",
    "print_time = 0\n",
    "interval = 1\n",
    "export = False"
   ]
  },
  {
   "cell_type": "code",
   "execution_count": null,
   "metadata": {
    "scrolled": false
   },
   "outputs": [
    {
     "name": "stdout",
     "output_type": "stream",
     "text": [
      "('Tmax = ', 1)\n",
      "('N, M : ', 464, ' ', 324)\n"
     ]
    },
    {
     "data": {
      "image/png": "[encoded data removed]",
      "text/plain": [
       "<matplotlib.figure.Figure at 0x7f9ba8a9e550>"
      ]
     },
     "metadata": {},
     "output_type": "display_data"
    },
    {
     "data": {
      "image/png": "[encoded data removed]",
      "text/plain": [
       "<matplotlib.figure.Figure at 0x7f9b98a0a4d0>"
      ]
     },
     "metadata": {},
     "output_type": "display_data"
    },
    {
     "name": "stderr",
     "output_type": "stream",
     "text": [
      "ERROR:root:Internal Python error in the inspect module.\n",
      "Below is the traceback from this internal error.\n",
      "\n",
      "\n",
      "KeyboardInterrupt\n",
      "\n",
      "ERROR:tornado.general:Uncaught exception, closing connection.\n",
      "Traceback (most recent call last):\n",
      "  File \"/home/huongnm/anaconda2/lib/python2.7/site-packages/zmq/eventloop/zmqstream.py\", line 414, in _run_callback\n",
      "    callback(*args, **kwargs)\n",
      "  File \"/home/huongnm/anaconda2/lib/python2.7/site-packages/tornado/stack_context.py\", line 277, in null_wrapper\n",
      "    return fn(*args, **kwargs)\n",
      "  File \"/home/huongnm/anaconda2/lib/python2.7/site-packages/ipykernel/kernelbase.py\", line 283, in dispatcher\n",
      "    return self.dispatch_shell(stream, msg)\n",
      "  File \"/home/huongnm/anaconda2/lib/python2.7/site-packages/ipykernel/kernelbase.py\", line 233, in dispatch_shell\n",
      "    handler(stream, idents, msg)\n",
      "  File \"/home/huongnm/anaconda2/lib/python2.7/site-packages/ipykernel/kernelbase.py\", line 403, in execute_request\n",
      "    sys.stderr.flush()\n",
      "  File \"/home/huongnm/anaconda2/lib/python2.7/site-packages/ipykernel/iostream.py\", line 342, in flush\n",
      "    if not evt.wait(self.flush_timeout):\n",
      "  File \"/home/huongnm/anaconda2/lib/python2.7/threading.py\", line 614, in wait\n",
      "    self.__cond.wait(timeout)\n",
      "  File \"/home/huongnm/anaconda2/lib/python2.7/threading.py\", line 359, in wait\n",
      "    _sleep(delay)\n",
      "KeyboardInterrupt\n",
      "ERROR:tornado.general:Uncaught exception, closing connection.\n",
      "Traceback (most recent call last):\n",
      "  File \"/home/huongnm/anaconda2/lib/python2.7/site-packages/zmq/eventloop/zmqstream.py\", line 440, in _handle_events\n",
      "    self._handle_recv()\n",
      "  File \"/home/huongnm/anaconda2/lib/python2.7/site-packages/zmq/eventloop/zmqstream.py\", line 472, in _handle_recv\n",
      "    self._run_callback(callback, msg)\n",
      "  File \"/home/huongnm/anaconda2/lib/python2.7/site-packages/zmq/eventloop/zmqstream.py\", line 414, in _run_callback\n",
      "    callback(*args, **kwargs)\n",
      "  File \"/home/huongnm/anaconda2/lib/python2.7/site-packages/tornado/stack_context.py\", line 277, in null_wrapper\n",
      "    return fn(*args, **kwargs)\n",
      "  File \"/home/huongnm/anaconda2/lib/python2.7/site-packages/ipykernel/kernelbase.py\", line 283, in dispatcher\n",
      "    return self.dispatch_shell(stream, msg)\n",
      "  File \"/home/huongnm/anaconda2/lib/python2.7/site-packages/ipykernel/kernelbase.py\", line 233, in dispatch_shell\n",
      "    handler(stream, idents, msg)\n",
      "  File \"/home/huongnm/anaconda2/lib/python2.7/site-packages/ipykernel/kernelbase.py\", line 403, in execute_request\n",
      "    sys.stderr.flush()\n",
      "  File \"/home/huongnm/anaconda2/lib/python2.7/site-packages/ipykernel/iostream.py\", line 342, in flush\n",
      "    if not evt.wait(self.flush_timeout):\n",
      "  File \"/home/huongnm/anaconda2/lib/python2.7/threading.py\", line 614, in wait\n",
      "    self.__cond.wait(timeout)\n",
      "  File \"/home/huongnm/anaconda2/lib/python2.7/threading.py\", line 359, in wait\n",
      "    _sleep(delay)\n",
      "KeyboardInterrupt\n"
     ]
    }
   ],
   "source": [
    "start_time = timeit.default_timer()\n",
    "ulist, vlist, zlist = hydraulic_Calculation(Tmax, pointers, arg_struct_ptr, arr_struct_ptr, supmod, ctx,\\\n",
    "                                            debug=debug, plot=plot, interval=interval, export=export, print_time=print_time)\n",
    "stop_time = timeit.default_timer()\n",
    "print stop_time - start_time"
   ]
  },
  {
   "cell_type": "code",
   "execution_count": null,
   "metadata": {},
   "outputs": [],
   "source": [
    "# print ulist[2][1] \n",
    "ulist = np.array(ulist, dtype=np.float64)\n",
    "vlist = np.array(vlist, dtype=np.float64)\n",
    "zlist = np.array(zlist, dtype=np.float64)\n",
    "\n"
   ]
  },
  {
   "cell_type": "code",
   "execution_count": null,
   "metadata": {},
   "outputs": [],
   "source": [
    "print CC_u"
   ]
  },
  {
   "cell_type": "code",
   "execution_count": null,
   "metadata": {},
   "outputs": [],
   "source": [
    "import skimage.io as io"
   ]
  },
  {
   "cell_type": "code",
   "execution_count": null,
   "metadata": {},
   "outputs": [],
   "source": [
    "print np.where(FS != 0)"
   ]
  },
  {
   "cell_type": "code",
   "execution_count": null,
   "metadata": {},
   "outputs": [],
   "source": [
    "io.imsave(\"gpu_U.tif\" ,ulist )\n",
    "io.imsave(\"gpu_V.tif\" ,vlist )\n",
    "io.imsave(\"gpu_Z.tif\" ,zlist )"
   ]
  },
  {
   "cell_type": "code",
   "execution_count": null,
   "metadata": {},
   "outputs": [],
   "source": [
    "print len(U)"
   ]
  },
  {
   "cell_type": "code",
   "execution_count": null,
   "metadata": {
    "scrolled": true
   },
   "outputs": [],
   "source": [
    "t = 0\n",
    "err = []\n",
    "# print np.max(abs(U - ulist[:1199, 1 : N + 1, 1 : M + 1]))\n",
    "# print np.max(abs(V - vlist[:1199, 1 : N + 1, 1 : M + 1]))\n",
    "# print np.max(abs(Z - zlist[:1199, 1 : N + 1, 1 : M + 1]))\n",
    "\n",
    "for i in range(50,len(U)):\n",
    "    print i, 0.25 * (i + 1)\n",
    "#     plt.imshow(U[i,56:70, 10:55])\n",
    "#     plt.show()\n",
    "#     plt.imshow(ulist[i, 57:71, 11:56])\n",
    "#     plt.show()\n",
    "    print 'u', np.max(abs(U[i] - ulist[i, 1 : N + 1, 1 : M + 1]))\n",
    "    print 'z', np.max(abs(Z[i] - zlist[i, 1 : N + 1, 1 : M + 1]))\n",
    "    print 'v', np.max(abs(V[i] - vlist[i, 1 : N + 1, 1 : M + 1]))\n",
    "\n",
    "#     print Z[i, 258, 227] - zlist[i, 259, 228]\n",
    "#     print Z[i, 258, 230]  - zlist[i, 259, 231]\n",
    "#     print V[i, 258, 230] - vlist[i, 259, 231]\n",
    "    if i > 80 and i < 100:\n",
    "        plt.plot(Z[i, 258, 235:240])\n",
    "        plt.show()\n",
    "        plt.plot(zlist[i, 259,236:241])\n",
    "        plt.show()\n",
    "        \n",
    "#         plt.imshow(h[250:260,235:246])\n",
    "#         plt.show()\n",
    "#         plt.imshow(abs(U[i,249:259,234:245 ] - ulist[i, 250:260,235:246]))\n",
    "#         plt.show()\n",
    "#         plt.imshow(abs(Z[i,249:259,234:245] - zlist[i, 250:260,235:246]))\n",
    "#         plt.show()\n",
    "#         plt.imshow(abs(V[i,249:259,234:245] - vlist[i, 250:260,235:246]))\n",
    "#         plt.show()\n",
    "#         plt.plot(zlist[i, 255:259, 245])\n",
    "#         print zlist[i, 258, 240]\n",
    "        \n",
    "\n",
    "#    \n",
    "#     print 'v', np.max(abs(V[i] - vlist[i, 1 : N + 1, 1 : M + 1]))\n",
    "#     plt.plot(abs(U[i, 180:259, 229] - ulist[i, 181: 260, 230]))\n",
    "#     plt.plot(vlist[i, 259, 211: 231])\n",
    "#     plt.show()\n",
    "#     plt.plot(V[i, 258, 210:230])\n",
    "#     plt.show()\n",
    "\n",
    "    print \"u\", np.where(abs(U[i] - ulist[i, 1 : N + 1, 1 : M + 1]) == np.max(abs(U[i] - ulist[i, 1 : N + 1, 1 : M + 1])))\n",
    "    print 'v', np.where(abs(V[i] - vlist[i, 1 : N + 1, 1 : M + 1]) == np.max(abs(V[i] - vlist[i, 1 : N + 1, 1 : M + 1])))\n",
    "    print 'z', np.where(abs(Z[i] - zlist[i, 1 : N + 1, 1 : M + 1]) == np.max(abs(Z[i] - zlist[i, 1 : N + 1, 1 : M + 1])))\n",
    "\n",
    "# pointers.extract({\"moci\": moci, \"daui\" : daui, \"cuoii\": cuoii, \"mocj\": mocj, \"dauj\": dauj, \"cuoij\" : cuoij})\n"
   ]
  },
  {
   "cell_type": "code",
   "execution_count": null,
   "metadata": {},
   "outputs": [],
   "source": [
    "print Z[85, 257, 239], zlist[85, 258,240]\n",
    "\n",
    "print plt.imshow(h[250:260,230:246])\n",
    "pointers.extract({\"khouot\" : khouot})\n",
    "# print khouot[245:260, 230:245]"
   ]
  },
  {
   "cell_type": "code",
   "execution_count": null,
   "metadata": {},
   "outputs": [],
   "source": [
    "cuda.memcpy_dtoh(gpu_tz, pc['t_z'])\n",
    "cuda.memcpy_dtoh(gpu_tu, pc['t_u'])\n",
    "cuda.memcpy_dtoh(gpu_tv, pc['t_v'])\n",
    "# pointers.extract({\"Htdu\" : gpu_htdu, \"Htdv\" : gpu_htdv, \"daui\" : gpu_daui, \"cuoii\" : gpu_cuoii, \"dauj\" : gpu_dauj, \"cuoij\" : gpu_cuoij, \"khouot\" : gpu_khouot })\n",
    "# print np.where(gpu_htdu[:,10] != 0)\n",
    "# err_htdv = np.where(abs(gpu_htdv - Htdv ) > 1e-6)\n",
    "# err_htdu = np.where(abs(gpu_htdu - Htdu ) > 1e-6)\n",
    "# err_daui = np.where(abs(gpu_daui - daui ) != 0)\n",
    "# err_dauj = np.where(abs(gpu_dauj - dauj ) != 0)\n",
    "# err_cuoii = np.where(abs(gpu_cuoii - cuoii ) != 0)\n",
    "# err_cuoij = np.where(abs(gpu_cuoij - cuoij ) != 0)\n",
    "# err_ku = np.where(abs(gpu_khouot - khouot) != 0)   \n",
    "# print khouot[:,5]\n",
    "# print gpu_khouot[:, 5]\n",
    "# print 'khouot:', err_ku\n",
    "# print \"Htdu:\",  err_htdu\n",
    "# print \"Htdv:\",  err_htdv\n",
    "# print \"daui :\",  err_daui\n",
    "# print \"dauj :\",  err_dauj\n",
    "# print \"cuoii:\", err_cuoii\n",
    "# print \"cuoij:\", err_cuoij  "
   ]
  },
  {
   "cell_type": "code",
   "execution_count": null,
   "metadata": {},
   "outputs": [],
   "source": [
    "hi = np.zeros(h.shape[1], dtype=np.float32)\n",
    "acc = 0\n",
    "for k in range(daui[2, 0], cuoii[2, 0] + 1):\n",
    "    hi[k] = (h[1, k -1] + h[1, k]) * 0.5 \n",
    "    acc += mth.pow(hi[k], 5.0/3.0)\n",
    "tmp = bc_left[0] / acc\n",
    "qi = np.zeros(hi.shape, dtype=np.float32)\n",
    "qi_1 = tmp * np.power(hi, 2.0/3.0)\n",
    "qi_2 = bc_left[1] / acc * np.power(hi, 2.0/3.0)\n",
    "# print (qi_1 / dX)[3:51]\n",
    "res = 1.0 / dX * (qi_1 * (1 - 6.0/3600) + qi_2 * (6.0/3600))\n",
    "print res[3:51]"
   ]
  },
  {
   "cell_type": "code",
   "execution_count": null,
   "metadata": {},
   "outputs": [],
   "source": [
    "import glob\n",
    "import skimage.io as io\n",
    "\n",
    "def get_file (save_name=\"U.tif\", path=\"Outputs/Song_Luy/U/*\"):\n",
    "    file_names = glob.glob (path)\n",
    "    tmp_names = []\n",
    "    for name in file_names:\n",
    "        tmp_names += [(float (name [21:-4]), name)]\n",
    "    tmp_names.sort ()\n",
    "    ret = []\n",
    "    for name in tmp_names:\n",
    "        data = np.loadtxt (name [1], dtype=np.float64)\n",
    "        ret += [data]\n",
    "    ret = np.array (ret)\n",
    "    io.imsave (save_name, ret)\n",
    "    return ret"
   ]
  },
  {
   "cell_type": "code",
   "execution_count": null,
   "metadata": {},
   "outputs": [],
   "source": [
    "print ulist[23, 1, 3:51]\n",
    "print U[23, 0, 2:50]\n",
    "print np.where(abs(ulist[23, 1, 1: M + 1] - U[23, 0]) > 1e-6)"
   ]
  },
  {
   "cell_type": "code",
   "execution_count": null,
   "metadata": {
    "scrolled": false
   },
   "outputs": [],
   "source": [
    "path = \"Outputs/FS/*\"\n",
    "file_names = glob.glob(path)\n",
    "for names in file_names:\n",
    "    plt.figure(figsize=(10,10))\n",
    "    plt.imshow(np.loadtxt(names))\n",
    "    plt.show()"
   ]
  },
  {
   "cell_type": "code",
   "execution_count": null,
   "metadata": {},
   "outputs": [],
   "source": [
    "# U = get_file()\n",
    "# Z = get_file(save_name=\"Z.tif\", path=\"Outputs/Song_Luy/Z/*\")"
   ]
  }
 ],
 "metadata": {
  "kernelspec": {
   "display_name": "Python 2",
   "language": "python",
   "name": "python2"
  },
  "language_info": {
   "codemirror_mode": {
    "name": "ipython",
    "version": 2
   },
   "file_extension": ".py",
   "mimetype": "text/x-python",
   "name": "python",
   "nbconvert_exporter": "python",
   "pygments_lexer": "ipython2",
   "version": "2.7.14"
  }
 },
 "nbformat": 4,
 "nbformat_minor": 2
}
