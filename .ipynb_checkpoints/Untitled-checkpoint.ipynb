{
 "cells": [
  {
   "cell_type": "code",
   "execution_count": 3,
   "metadata": {},
   "outputs": [],
   "source": [
    "import numpy as np\n",
    "import matplotlib.pyplot as plt\n",
    "import glob"
   ]
  },
  {
   "cell_type": "code",
   "execution_count": 6,
   "metadata": {},
   "outputs": [],
   "source": [
    "upath = 'Outputs/U_VB/*'\n",
    "vpath = 'Outputs/V_VB/'"
   ]
  },
  {
   "cell_type": "code",
   "execution_count": 5,
   "metadata": {},
   "outputs": [
    {
     "name": "stdout",
     "output_type": "stream",
     "text": [
      "['Outputs/U_VB/u_1.txt', 'Outputs/U_VB/u_2.txt', 'Outputs/U_VB/u_3.txt', 'Outputs/U_VB/u_4.txt', 'Outputs/U_VB/u_5.txt', 'Outputs/U_VB/u_6.txt', 'Outputs/U_VB/u_7.txt', 'Outputs/U_VB/u_8.txt', 'Outputs/U_VB/u_9.txt', 'Outputs/U_VB/u_10.txt', 'Outputs/U_VB/u_11.txt', 'Outputs/U_VB/u_12.txt', 'Outputs/U_VB/u_13.txt', 'Outputs/U_VB/u_14.txt', 'Outputs/U_VB/u_15.txt', 'Outputs/U_VB/u_16.txt', 'Outputs/U_VB/u_17.txt', 'Outputs/U_VB/u_18.txt', 'Outputs/U_VB/u_19.txt', 'Outputs/U_VB/u_20.txt', 'Outputs/U_VB/u_21.txt', 'Outputs/U_VB/u_22.txt', 'Outputs/U_VB/u_23.txt', 'Outputs/U_VB/u_24.txt', 'Outputs/U_VB/u_25.txt', 'Outputs/U_VB/u_26.txt', 'Outputs/U_VB/u_27.txt', 'Outputs/U_VB/u_28.txt', 'Outputs/U_VB/u_29.txt', 'Outputs/U_VB/u_30.txt', 'Outputs/U_VB/u_31.txt', 'Outputs/U_VB/u_32.txt', 'Outputs/U_VB/u_33.txt', 'Outputs/U_VB/u_34.txt', 'Outputs/U_VB/u_35.txt', 'Outputs/U_VB/u_36.txt', 'Outputs/U_VB/u_37.txt', 'Outputs/U_VB/u_38.txt', 'Outputs/U_VB/u_39.txt', 'Outputs/U_VB/u_40.txt', 'Outputs/U_VB/u_41.txt', 'Outputs/U_VB/u_42.txt', 'Outputs/U_VB/u_43.txt', 'Outputs/U_VB/u_44.txt', 'Outputs/U_VB/u_45.txt', 'Outputs/U_VB/u_46.txt', 'Outputs/U_VB/u_47.txt', 'Outputs/U_VB/u_48.txt', 'Outputs/U_VB/u_49.txt', 'Outputs/U_VB/u_50.txt', 'Outputs/U_VB/u_51.txt', 'Outputs/U_VB/u_52.txt', 'Outputs/U_VB/u_53.txt', 'Outputs/U_VB/u_54.txt', 'Outputs/U_VB/u_55.txt', 'Outputs/U_VB/u_56.txt', 'Outputs/U_VB/u_57.txt', 'Outputs/U_VB/u_58.txt', 'Outputs/U_VB/u_59.txt', 'Outputs/U_VB/u_60.txt', 'Outputs/U_VB/u_61.txt', 'Outputs/U_VB/u_62.txt', 'Outputs/U_VB/u_63.txt', 'Outputs/U_VB/u_64.txt', 'Outputs/U_VB/u_65.txt', 'Outputs/U_VB/u_66.txt', 'Outputs/U_VB/u_67.txt', 'Outputs/U_VB/u_68.txt', 'Outputs/U_VB/u_69.txt', 'Outputs/U_VB/u_70.txt', 'Outputs/U_VB/u_71.txt', 'Outputs/U_VB/u_72.txt', 'Outputs/U_VB/u_73.txt', 'Outputs/U_VB/u_74.txt', 'Outputs/U_VB/u_75.txt', 'Outputs/U_VB/u_76.txt', 'Outputs/U_VB/u_77.txt', 'Outputs/U_VB/u_78.txt', 'Outputs/U_VB/u_79.txt', 'Outputs/U_VB/u_80.txt', 'Outputs/U_VB/u_81.txt', 'Outputs/U_VB/u_82.txt', 'Outputs/U_VB/u_83.txt', 'Outputs/U_VB/u_84.txt', 'Outputs/U_VB/u_85.txt', 'Outputs/U_VB/u_86.txt', 'Outputs/U_VB/u_87.txt', 'Outputs/U_VB/u_88.txt', 'Outputs/U_VB/u_89.txt', 'Outputs/U_VB/u_90.txt', 'Outputs/U_VB/u_91.txt', 'Outputs/U_VB/u_92.txt', 'Outputs/U_VB/u_93.txt', 'Outputs/U_VB/u_94.txt', 'Outputs/U_VB/u_95.txt', 'Outputs/U_VB/u_96.txt', 'Outputs/U_VB/u_97.txt', 'Outputs/U_VB/u_98.txt', 'Outputs/U_VB/u_99.txt', 'Outputs/U_VB/u_100.txt']\n"
     ]
    }
   ],
   "source": [
    "ufiles = glob.glob(upath)\n",
    "vfiles = glob.glob(vpath)\n",
    "uerr = []\n",
    "for i in range(len(ufiles)):\n",
    "    uvb = np.loadtxt(ufiles[i])\n",
    "    vvb = np.loadtxt(vfiles[i])\n",
    "    uerr += [np.max(abs(uvb) - ulist[i][:N+2, :M+2])]\n",
    "    verr += [np.max(abs(vvb) - vlist[i][:N+2, :M+2])]\n",
    "uerr = np.array(uerr)\n",
    "verr = np.array(verr)\n",
    "mean_uerr = np.mean(uerr)\n",
    "mean_verr = np.mean(verr)\n",
    "plt.plot(uerr)\n",
    "plt.plot(verr)\n",
    "plt.show()"
   ]
  },
  {
   "cell_type": "code",
   "execution_count": null,
   "metadata": {},
   "outputs": [],
   "source": [
    "def report_error_sediment(fspath):\n",
    "    fsfiles = glob.glob(fspath)\n",
    "    for name in fsfiles:\n",
    "        f = open(name, 'r')\n",
    "        l = f.readline()\n",
    "        l = f.readline()\n",
    "        l = f.readline()\n",
    "        l = f.readline()\n",
    "        fs = np.zeros((M - 1, N - 1))\n",
    "        for i in range(M - 1):\n",
    "            \n",
    "        \n",
    "        "
   ]
  },
  {
   "cell_type": "code",
   "execution_count": 14,
   "metadata": {},
   "outputs": [
    {
     "name": "stdout",
     "output_type": "stream",
     "text": [
      "NongDo/Fusa 10.2h.grd\n"
     ]
    },
    {
     "ename": "ValueError",
     "evalue": "Wrong number of columns at line 6",
     "output_type": "error",
     "traceback": [
      "\u001b[0;31m---------------------------------------------------------------------------\u001b[0m",
      "\u001b[0;31mValueError\u001b[0m                                Traceback (most recent call last)",
      "\u001b[0;32m<ipython-input-14-a93cb8566646>\u001b[0m in \u001b[0;36m<module>\u001b[0;34m()\u001b[0m\n\u001b[1;32m      3\u001b[0m \u001b[0;32mfor\u001b[0m \u001b[0mi\u001b[0m \u001b[0;32min\u001b[0m \u001b[0mrange\u001b[0m\u001b[0;34m(\u001b[0m\u001b[0mlen\u001b[0m\u001b[0;34m(\u001b[0m\u001b[0mfsfiles\u001b[0m\u001b[0;34m)\u001b[0m\u001b[0;34m)\u001b[0m\u001b[0;34m:\u001b[0m\u001b[0;34m\u001b[0m\u001b[0m\n\u001b[1;32m      4\u001b[0m     \u001b[0;32mprint\u001b[0m \u001b[0mfsfiles\u001b[0m\u001b[0;34m[\u001b[0m\u001b[0;36m1\u001b[0m\u001b[0;34m]\u001b[0m\u001b[0;34m\u001b[0m\u001b[0m\n\u001b[0;32m----> 5\u001b[0;31m     \u001b[0mfsvb\u001b[0m \u001b[0;34m=\u001b[0m \u001b[0mnp\u001b[0m\u001b[0;34m.\u001b[0m\u001b[0mloadtxt\u001b[0m\u001b[0;34m(\u001b[0m\u001b[0mfsfiles\u001b[0m\u001b[0;34m[\u001b[0m\u001b[0;36m1\u001b[0m\u001b[0;34m]\u001b[0m\u001b[0;34m,\u001b[0m \u001b[0mskiprows\u001b[0m\u001b[0;34m=\u001b[0m\u001b[0;36m4\u001b[0m\u001b[0;34m)\u001b[0m\u001b[0;34m\u001b[0m\u001b[0m\n\u001b[0m\u001b[1;32m      6\u001b[0m     \u001b[0mfsvb\u001b[0m \u001b[0;34m=\u001b[0m \u001b[0mnp\u001b[0m\u001b[0;34m.\u001b[0m\u001b[0mtranspose\u001b[0m\u001b[0;34m(\u001b[0m\u001b[0mfsvb\u001b[0m\u001b[0;34m)\u001b[0m\u001b[0;34m\u001b[0m\u001b[0m\n\u001b[1;32m      7\u001b[0m     \u001b[0mplt\u001b[0m\u001b[0;34m.\u001b[0m\u001b[0mfigure\u001b[0m\u001b[0;34m(\u001b[0m\u001b[0mfigsize\u001b[0m\u001b[0;34m=\u001b[0m\u001b[0;34m(\u001b[0m\u001b[0;36m10\u001b[0m\u001b[0;34m,\u001b[0m \u001b[0;36m10\u001b[0m\u001b[0;34m)\u001b[0m\u001b[0;34m)\u001b[0m\u001b[0;34m\u001b[0m\u001b[0m\n",
      "\u001b[0;32m/home/huongnm/anaconda2/lib/python2.7/site-packages/numpy/lib/npyio.pyc\u001b[0m in \u001b[0;36mloadtxt\u001b[0;34m(fname, dtype, comments, delimiter, converters, skiprows, usecols, unpack, ndmin, encoding)\u001b[0m\n\u001b[1;32m   1090\u001b[0m         \u001b[0;31m# converting the data\u001b[0m\u001b[0;34m\u001b[0m\u001b[0;34m\u001b[0m\u001b[0m\n\u001b[1;32m   1091\u001b[0m         \u001b[0mX\u001b[0m \u001b[0;34m=\u001b[0m \u001b[0mNone\u001b[0m\u001b[0;34m\u001b[0m\u001b[0m\n\u001b[0;32m-> 1092\u001b[0;31m         \u001b[0;32mfor\u001b[0m \u001b[0mx\u001b[0m \u001b[0;32min\u001b[0m \u001b[0mread_data\u001b[0m\u001b[0;34m(\u001b[0m\u001b[0m_loadtxt_chunksize\u001b[0m\u001b[0;34m)\u001b[0m\u001b[0;34m:\u001b[0m\u001b[0;34m\u001b[0m\u001b[0m\n\u001b[0m\u001b[1;32m   1093\u001b[0m             \u001b[0;32mif\u001b[0m \u001b[0mX\u001b[0m \u001b[0;32mis\u001b[0m \u001b[0mNone\u001b[0m\u001b[0;34m:\u001b[0m\u001b[0;34m\u001b[0m\u001b[0m\n\u001b[1;32m   1094\u001b[0m                 \u001b[0mX\u001b[0m \u001b[0;34m=\u001b[0m \u001b[0mnp\u001b[0m\u001b[0;34m.\u001b[0m\u001b[0marray\u001b[0m\u001b[0;34m(\u001b[0m\u001b[0mx\u001b[0m\u001b[0;34m,\u001b[0m \u001b[0mdtype\u001b[0m\u001b[0;34m)\u001b[0m\u001b[0;34m\u001b[0m\u001b[0m\n",
      "\u001b[0;32m/home/huongnm/anaconda2/lib/python2.7/site-packages/numpy/lib/npyio.pyc\u001b[0m in \u001b[0;36mread_data\u001b[0;34m(chunk_size)\u001b[0m\n\u001b[1;32m   1014\u001b[0m                 \u001b[0mline_num\u001b[0m \u001b[0;34m=\u001b[0m \u001b[0mi\u001b[0m \u001b[0;34m+\u001b[0m \u001b[0mskiprows\u001b[0m \u001b[0;34m+\u001b[0m \u001b[0;36m1\u001b[0m\u001b[0;34m\u001b[0m\u001b[0m\n\u001b[1;32m   1015\u001b[0m                 raise ValueError(\"Wrong number of columns at line %d\"\n\u001b[0;32m-> 1016\u001b[0;31m                                  % line_num)\n\u001b[0m\u001b[1;32m   1017\u001b[0m \u001b[0;34m\u001b[0m\u001b[0m\n\u001b[1;32m   1018\u001b[0m             \u001b[0;31m# Convert each value according to its column and store\u001b[0m\u001b[0;34m\u001b[0m\u001b[0;34m\u001b[0m\u001b[0m\n",
      "\u001b[0;31mValueError\u001b[0m: Wrong number of columns at line 6"
     ]
    }
   ],
   "source": [
    "fsfiles = glob.glob('NongDo/*')\n",
    "# print fsfiles\n",
    "for i in range(len(fsfiles)):\n",
    "    print fsfiles[1]\n",
    "    fsvb = np.loadtxt(fsfiles[1], skiprows=5)\n",
    "    fsvb = np.transpose(fsvb)\n",
    "    plt.figure(figsize=(10, 10))\n",
    "    plt.imshow(fsvb)\n",
    "\n"
   ]
  }
 ],
 "metadata": {
  "kernelspec": {
   "display_name": "Python 2",
   "language": "python",
   "name": "python2"
  },
  "language_info": {
   "codemirror_mode": {
    "name": "ipython",
    "version": 2
   },
   "file_extension": ".py",
   "mimetype": "text/x-python",
   "name": "python",
   "nbconvert_exporter": "python",
   "pygments_lexer": "ipython2",
   "version": "2.7.14"
  }
 },
 "nbformat": 4,
 "nbformat_minor": 2
}
